{
 "cells": [
  {
   "cell_type": "markdown",
   "id": "fb6d4b4d",
   "metadata": {},
   "source": [
    "# Stroke prediction"
   ]
  },
  {
   "cell_type": "markdown",
   "id": "75a7b63c",
   "metadata": {},
   "source": [
    "Description : According to the World Health Organization (WHO) stroke is\n",
    "the 2nd leading cause of death globally, responsible for approximately 11% of\n",
    "total deaths.This dataset is used to predict whether a patient is likely to get a\n",
    "stroke based on the input parameters like gender, age, various diseases, and\n",
    "smoking status. Each row in the data provides relevant information about the\n",
    "patient."
   ]
  },
  {
   "cell_type": "markdown",
   "id": "e4065b23",
   "metadata": {},
   "source": [
    "Dataset : https://www.kaggle.com/fedesoriano/stroke-prediction-dataset?select=healthcaredataset-stroke-data.csv"
   ]
  },
  {
   "cell_type": "code",
   "execution_count": 2,
   "id": "20532a81",
   "metadata": {},
   "outputs": [],
   "source": [
    "import pandas as pd"
   ]
  },
  {
   "cell_type": "code",
   "execution_count": 3,
   "id": "2d75043e",
   "metadata": {},
   "outputs": [],
   "source": [
    "import warnings"
   ]
  },
  {
   "cell_type": "code",
   "execution_count": 4,
   "id": "99ba40c8",
   "metadata": {},
   "outputs": [],
   "source": [
    "warnings.filterwarnings('ignore')"
   ]
  },
  {
   "cell_type": "code",
   "execution_count": 5,
   "id": "bb991bc9",
   "metadata": {},
   "outputs": [],
   "source": [
    "raw_df = pd.read_csv('healthcare-dataset-stroke-data.csv')"
   ]
  },
  {
   "cell_type": "code",
   "execution_count": 6,
   "id": "41bfb5c9",
   "metadata": {
    "scrolled": true
   },
   "outputs": [
    {
     "data": {
      "text/html": [
       "<div>\n",
       "<style scoped>\n",
       "    .dataframe tbody tr th:only-of-type {\n",
       "        vertical-align: middle;\n",
       "    }\n",
       "\n",
       "    .dataframe tbody tr th {\n",
       "        vertical-align: top;\n",
       "    }\n",
       "\n",
       "    .dataframe thead th {\n",
       "        text-align: right;\n",
       "    }\n",
       "</style>\n",
       "<table border=\"1\" class=\"dataframe\">\n",
       "  <thead>\n",
       "    <tr style=\"text-align: right;\">\n",
       "      <th></th>\n",
       "      <th>id</th>\n",
       "      <th>gender</th>\n",
       "      <th>age</th>\n",
       "      <th>hypertension</th>\n",
       "      <th>heart_disease</th>\n",
       "      <th>ever_married</th>\n",
       "      <th>work_type</th>\n",
       "      <th>Residence_type</th>\n",
       "      <th>avg_glucose_level</th>\n",
       "      <th>bmi</th>\n",
       "      <th>smoking_status</th>\n",
       "      <th>stroke</th>\n",
       "    </tr>\n",
       "  </thead>\n",
       "  <tbody>\n",
       "    <tr>\n",
       "      <th>0</th>\n",
       "      <td>9046</td>\n",
       "      <td>Male</td>\n",
       "      <td>67.0</td>\n",
       "      <td>0</td>\n",
       "      <td>1</td>\n",
       "      <td>Yes</td>\n",
       "      <td>Private</td>\n",
       "      <td>Urban</td>\n",
       "      <td>228.69</td>\n",
       "      <td>36.6</td>\n",
       "      <td>formerly smoked</td>\n",
       "      <td>1</td>\n",
       "    </tr>\n",
       "    <tr>\n",
       "      <th>1</th>\n",
       "      <td>51676</td>\n",
       "      <td>Female</td>\n",
       "      <td>61.0</td>\n",
       "      <td>0</td>\n",
       "      <td>0</td>\n",
       "      <td>Yes</td>\n",
       "      <td>Self-employed</td>\n",
       "      <td>Rural</td>\n",
       "      <td>202.21</td>\n",
       "      <td>NaN</td>\n",
       "      <td>never smoked</td>\n",
       "      <td>1</td>\n",
       "    </tr>\n",
       "    <tr>\n",
       "      <th>2</th>\n",
       "      <td>31112</td>\n",
       "      <td>Male</td>\n",
       "      <td>80.0</td>\n",
       "      <td>0</td>\n",
       "      <td>1</td>\n",
       "      <td>Yes</td>\n",
       "      <td>Private</td>\n",
       "      <td>Rural</td>\n",
       "      <td>105.92</td>\n",
       "      <td>32.5</td>\n",
       "      <td>never smoked</td>\n",
       "      <td>1</td>\n",
       "    </tr>\n",
       "    <tr>\n",
       "      <th>3</th>\n",
       "      <td>60182</td>\n",
       "      <td>Female</td>\n",
       "      <td>49.0</td>\n",
       "      <td>0</td>\n",
       "      <td>0</td>\n",
       "      <td>Yes</td>\n",
       "      <td>Private</td>\n",
       "      <td>Urban</td>\n",
       "      <td>171.23</td>\n",
       "      <td>34.4</td>\n",
       "      <td>smokes</td>\n",
       "      <td>1</td>\n",
       "    </tr>\n",
       "    <tr>\n",
       "      <th>4</th>\n",
       "      <td>1665</td>\n",
       "      <td>Female</td>\n",
       "      <td>79.0</td>\n",
       "      <td>1</td>\n",
       "      <td>0</td>\n",
       "      <td>Yes</td>\n",
       "      <td>Self-employed</td>\n",
       "      <td>Rural</td>\n",
       "      <td>174.12</td>\n",
       "      <td>24.0</td>\n",
       "      <td>never smoked</td>\n",
       "      <td>1</td>\n",
       "    </tr>\n",
       "    <tr>\n",
       "      <th>...</th>\n",
       "      <td>...</td>\n",
       "      <td>...</td>\n",
       "      <td>...</td>\n",
       "      <td>...</td>\n",
       "      <td>...</td>\n",
       "      <td>...</td>\n",
       "      <td>...</td>\n",
       "      <td>...</td>\n",
       "      <td>...</td>\n",
       "      <td>...</td>\n",
       "      <td>...</td>\n",
       "      <td>...</td>\n",
       "    </tr>\n",
       "    <tr>\n",
       "      <th>5105</th>\n",
       "      <td>18234</td>\n",
       "      <td>Female</td>\n",
       "      <td>80.0</td>\n",
       "      <td>1</td>\n",
       "      <td>0</td>\n",
       "      <td>Yes</td>\n",
       "      <td>Private</td>\n",
       "      <td>Urban</td>\n",
       "      <td>83.75</td>\n",
       "      <td>NaN</td>\n",
       "      <td>never smoked</td>\n",
       "      <td>0</td>\n",
       "    </tr>\n",
       "    <tr>\n",
       "      <th>5106</th>\n",
       "      <td>44873</td>\n",
       "      <td>Female</td>\n",
       "      <td>81.0</td>\n",
       "      <td>0</td>\n",
       "      <td>0</td>\n",
       "      <td>Yes</td>\n",
       "      <td>Self-employed</td>\n",
       "      <td>Urban</td>\n",
       "      <td>125.20</td>\n",
       "      <td>40.0</td>\n",
       "      <td>never smoked</td>\n",
       "      <td>0</td>\n",
       "    </tr>\n",
       "    <tr>\n",
       "      <th>5107</th>\n",
       "      <td>19723</td>\n",
       "      <td>Female</td>\n",
       "      <td>35.0</td>\n",
       "      <td>0</td>\n",
       "      <td>0</td>\n",
       "      <td>Yes</td>\n",
       "      <td>Self-employed</td>\n",
       "      <td>Rural</td>\n",
       "      <td>82.99</td>\n",
       "      <td>30.6</td>\n",
       "      <td>never smoked</td>\n",
       "      <td>0</td>\n",
       "    </tr>\n",
       "    <tr>\n",
       "      <th>5108</th>\n",
       "      <td>37544</td>\n",
       "      <td>Male</td>\n",
       "      <td>51.0</td>\n",
       "      <td>0</td>\n",
       "      <td>0</td>\n",
       "      <td>Yes</td>\n",
       "      <td>Private</td>\n",
       "      <td>Rural</td>\n",
       "      <td>166.29</td>\n",
       "      <td>25.6</td>\n",
       "      <td>formerly smoked</td>\n",
       "      <td>0</td>\n",
       "    </tr>\n",
       "    <tr>\n",
       "      <th>5109</th>\n",
       "      <td>44679</td>\n",
       "      <td>Female</td>\n",
       "      <td>44.0</td>\n",
       "      <td>0</td>\n",
       "      <td>0</td>\n",
       "      <td>Yes</td>\n",
       "      <td>Govt_job</td>\n",
       "      <td>Urban</td>\n",
       "      <td>85.28</td>\n",
       "      <td>26.2</td>\n",
       "      <td>Unknown</td>\n",
       "      <td>0</td>\n",
       "    </tr>\n",
       "  </tbody>\n",
       "</table>\n",
       "<p>5110 rows × 12 columns</p>\n",
       "</div>"
      ],
      "text/plain": [
       "         id  gender   age  hypertension  heart_disease ever_married  \\\n",
       "0      9046    Male  67.0             0              1          Yes   \n",
       "1     51676  Female  61.0             0              0          Yes   \n",
       "2     31112    Male  80.0             0              1          Yes   \n",
       "3     60182  Female  49.0             0              0          Yes   \n",
       "4      1665  Female  79.0             1              0          Yes   \n",
       "...     ...     ...   ...           ...            ...          ...   \n",
       "5105  18234  Female  80.0             1              0          Yes   \n",
       "5106  44873  Female  81.0             0              0          Yes   \n",
       "5107  19723  Female  35.0             0              0          Yes   \n",
       "5108  37544    Male  51.0             0              0          Yes   \n",
       "5109  44679  Female  44.0             0              0          Yes   \n",
       "\n",
       "          work_type Residence_type  avg_glucose_level   bmi   smoking_status  \\\n",
       "0           Private          Urban             228.69  36.6  formerly smoked   \n",
       "1     Self-employed          Rural             202.21   NaN     never smoked   \n",
       "2           Private          Rural             105.92  32.5     never smoked   \n",
       "3           Private          Urban             171.23  34.4           smokes   \n",
       "4     Self-employed          Rural             174.12  24.0     never smoked   \n",
       "...             ...            ...                ...   ...              ...   \n",
       "5105        Private          Urban              83.75   NaN     never smoked   \n",
       "5106  Self-employed          Urban             125.20  40.0     never smoked   \n",
       "5107  Self-employed          Rural              82.99  30.6     never smoked   \n",
       "5108        Private          Rural             166.29  25.6  formerly smoked   \n",
       "5109       Govt_job          Urban              85.28  26.2          Unknown   \n",
       "\n",
       "      stroke  \n",
       "0          1  \n",
       "1          1  \n",
       "2          1  \n",
       "3          1  \n",
       "4          1  \n",
       "...      ...  \n",
       "5105       0  \n",
       "5106       0  \n",
       "5107       0  \n",
       "5108       0  \n",
       "5109       0  \n",
       "\n",
       "[5110 rows x 12 columns]"
      ]
     },
     "execution_count": 6,
     "metadata": {},
     "output_type": "execute_result"
    }
   ],
   "source": [
    "raw_df"
   ]
  },
  {
   "cell_type": "code",
   "execution_count": 7,
   "id": "f78f26c4",
   "metadata": {
    "scrolled": true
   },
   "outputs": [
    {
     "name": "stdout",
     "output_type": "stream",
     "text": [
      "<class 'pandas.core.frame.DataFrame'>\n",
      "RangeIndex: 5110 entries, 0 to 5109\n",
      "Data columns (total 12 columns):\n",
      " #   Column             Non-Null Count  Dtype  \n",
      "---  ------             --------------  -----  \n",
      " 0   id                 5110 non-null   int64  \n",
      " 1   gender             5110 non-null   object \n",
      " 2   age                5110 non-null   float64\n",
      " 3   hypertension       5110 non-null   int64  \n",
      " 4   heart_disease      5110 non-null   int64  \n",
      " 5   ever_married       5110 non-null   object \n",
      " 6   work_type          5110 non-null   object \n",
      " 7   Residence_type     5110 non-null   object \n",
      " 8   avg_glucose_level  5110 non-null   float64\n",
      " 9   bmi                4909 non-null   float64\n",
      " 10  smoking_status     5110 non-null   object \n",
      " 11  stroke             5110 non-null   int64  \n",
      "dtypes: float64(3), int64(4), object(5)\n",
      "memory usage: 479.2+ KB\n"
     ]
    }
   ],
   "source": [
    "raw_df.info()"
   ]
  },
  {
   "cell_type": "markdown",
   "id": "d41c75d4",
   "metadata": {},
   "source": [
    "Our dataset has some missing values in bmi column let's fill them using the mean of bmi column."
   ]
  },
  {
   "cell_type": "code",
   "execution_count": 8,
   "id": "509aaef2",
   "metadata": {},
   "outputs": [],
   "source": [
    "raw_df.fillna(raw_df.bmi.mean(),inplace=True)"
   ]
  },
  {
   "cell_type": "code",
   "execution_count": 9,
   "id": "87afe548",
   "metadata": {
    "scrolled": true
   },
   "outputs": [
    {
     "data": {
      "text/plain": [
       "id                   0\n",
       "gender               0\n",
       "age                  0\n",
       "hypertension         0\n",
       "heart_disease        0\n",
       "ever_married         0\n",
       "work_type            0\n",
       "Residence_type       0\n",
       "avg_glucose_level    0\n",
       "bmi                  0\n",
       "smoking_status       0\n",
       "stroke               0\n",
       "dtype: int64"
      ]
     },
     "execution_count": 9,
     "metadata": {},
     "output_type": "execute_result"
    }
   ],
   "source": [
    "raw_df.isna().sum()"
   ]
  },
  {
   "cell_type": "markdown",
   "id": "ae4f1ac3",
   "metadata": {},
   "source": [
    "Now there are no missing values in our dataset."
   ]
  },
  {
   "cell_type": "code",
   "execution_count": 22,
   "id": "e4255777",
   "metadata": {},
   "outputs": [
    {
     "data": {
      "text/html": [
       "<div>\n",
       "<style scoped>\n",
       "    .dataframe tbody tr th:only-of-type {\n",
       "        vertical-align: middle;\n",
       "    }\n",
       "\n",
       "    .dataframe tbody tr th {\n",
       "        vertical-align: top;\n",
       "    }\n",
       "\n",
       "    .dataframe thead th {\n",
       "        text-align: right;\n",
       "    }\n",
       "</style>\n",
       "<table border=\"1\" class=\"dataframe\">\n",
       "  <thead>\n",
       "    <tr style=\"text-align: right;\">\n",
       "      <th></th>\n",
       "      <th>id</th>\n",
       "      <th>age</th>\n",
       "      <th>hypertension</th>\n",
       "      <th>heart_disease</th>\n",
       "      <th>avg_glucose_level</th>\n",
       "      <th>bmi</th>\n",
       "      <th>stroke</th>\n",
       "    </tr>\n",
       "  </thead>\n",
       "  <tbody>\n",
       "    <tr>\n",
       "      <th>id</th>\n",
       "      <td>1.000000</td>\n",
       "      <td>0.003538</td>\n",
       "      <td>0.003550</td>\n",
       "      <td>-0.001296</td>\n",
       "      <td>0.001092</td>\n",
       "      <td>0.002999</td>\n",
       "      <td>0.006388</td>\n",
       "    </tr>\n",
       "    <tr>\n",
       "      <th>age</th>\n",
       "      <td>0.003538</td>\n",
       "      <td>1.000000</td>\n",
       "      <td>0.276398</td>\n",
       "      <td>0.263796</td>\n",
       "      <td>0.238171</td>\n",
       "      <td>0.325942</td>\n",
       "      <td>0.245257</td>\n",
       "    </tr>\n",
       "    <tr>\n",
       "      <th>hypertension</th>\n",
       "      <td>0.003550</td>\n",
       "      <td>0.276398</td>\n",
       "      <td>1.000000</td>\n",
       "      <td>0.108306</td>\n",
       "      <td>0.174474</td>\n",
       "      <td>0.160189</td>\n",
       "      <td>0.127904</td>\n",
       "    </tr>\n",
       "    <tr>\n",
       "      <th>heart_disease</th>\n",
       "      <td>-0.001296</td>\n",
       "      <td>0.263796</td>\n",
       "      <td>0.108306</td>\n",
       "      <td>1.000000</td>\n",
       "      <td>0.161857</td>\n",
       "      <td>0.038899</td>\n",
       "      <td>0.134914</td>\n",
       "    </tr>\n",
       "    <tr>\n",
       "      <th>avg_glucose_level</th>\n",
       "      <td>0.001092</td>\n",
       "      <td>0.238171</td>\n",
       "      <td>0.174474</td>\n",
       "      <td>0.161857</td>\n",
       "      <td>1.000000</td>\n",
       "      <td>0.168751</td>\n",
       "      <td>0.131945</td>\n",
       "    </tr>\n",
       "    <tr>\n",
       "      <th>bmi</th>\n",
       "      <td>0.002999</td>\n",
       "      <td>0.325942</td>\n",
       "      <td>0.160189</td>\n",
       "      <td>0.038899</td>\n",
       "      <td>0.168751</td>\n",
       "      <td>1.000000</td>\n",
       "      <td>0.038947</td>\n",
       "    </tr>\n",
       "    <tr>\n",
       "      <th>stroke</th>\n",
       "      <td>0.006388</td>\n",
       "      <td>0.245257</td>\n",
       "      <td>0.127904</td>\n",
       "      <td>0.134914</td>\n",
       "      <td>0.131945</td>\n",
       "      <td>0.038947</td>\n",
       "      <td>1.000000</td>\n",
       "    </tr>\n",
       "  </tbody>\n",
       "</table>\n",
       "</div>"
      ],
      "text/plain": [
       "                         id       age  hypertension  heart_disease  \\\n",
       "id                 1.000000  0.003538      0.003550      -0.001296   \n",
       "age                0.003538  1.000000      0.276398       0.263796   \n",
       "hypertension       0.003550  0.276398      1.000000       0.108306   \n",
       "heart_disease     -0.001296  0.263796      0.108306       1.000000   \n",
       "avg_glucose_level  0.001092  0.238171      0.174474       0.161857   \n",
       "bmi                0.002999  0.325942      0.160189       0.038899   \n",
       "stroke             0.006388  0.245257      0.127904       0.134914   \n",
       "\n",
       "                   avg_glucose_level       bmi    stroke  \n",
       "id                          0.001092  0.002999  0.006388  \n",
       "age                         0.238171  0.325942  0.245257  \n",
       "hypertension                0.174474  0.160189  0.127904  \n",
       "heart_disease               0.161857  0.038899  0.134914  \n",
       "avg_glucose_level           1.000000  0.168751  0.131945  \n",
       "bmi                         0.168751  1.000000  0.038947  \n",
       "stroke                      0.131945  0.038947  1.000000  "
      ]
     },
     "execution_count": 22,
     "metadata": {},
     "output_type": "execute_result"
    }
   ],
   "source": [
    "raw_df.corr()"
   ]
  },
  {
   "cell_type": "markdown",
   "id": "a6adef08",
   "metadata": {},
   "source": [
    "From the above correlation matrix we could observe that age,hypertension,heart_disease,avg_glucose_level have major impact on stroke."
   ]
  },
  {
   "cell_type": "code",
   "execution_count": 75,
   "id": "2099b7a0",
   "metadata": {},
   "outputs": [
    {
     "data": {
      "text/plain": [
       "Index(['id', 'gender', 'age', 'hypertension', 'heart_disease', 'ever_married',\n",
       "       'work_type', 'Residence_type', 'avg_glucose_level', 'bmi',\n",
       "       'smoking_status', 'stroke'],\n",
       "      dtype='object')"
      ]
     },
     "execution_count": 75,
     "metadata": {},
     "output_type": "execute_result"
    }
   ],
   "source": [
    "raw_df.columns"
   ]
  },
  {
   "cell_type": "code",
   "execution_count": 76,
   "id": "43cca8c3",
   "metadata": {},
   "outputs": [],
   "source": [
    "inputs = raw_df.columns[1:-1]"
   ]
  },
  {
   "cell_type": "code",
   "execution_count": 77,
   "id": "879272f0",
   "metadata": {
    "scrolled": true
   },
   "outputs": [
    {
     "data": {
      "text/plain": [
       "Index(['gender', 'age', 'hypertension', 'heart_disease', 'ever_married',\n",
       "       'work_type', 'Residence_type', 'avg_glucose_level', 'bmi',\n",
       "       'smoking_status'],\n",
       "      dtype='object')"
      ]
     },
     "execution_count": 77,
     "metadata": {},
     "output_type": "execute_result"
    }
   ],
   "source": [
    "inputs"
   ]
  },
  {
   "cell_type": "markdown",
   "id": "06302677",
   "metadata": {},
   "source": [
    "Above are the columns that will be given to our model as inputs."
   ]
  },
  {
   "cell_type": "code",
   "execution_count": 78,
   "id": "43ec51e3",
   "metadata": {},
   "outputs": [],
   "source": [
    "target = raw_df.columns[-1]"
   ]
  },
  {
   "cell_type": "code",
   "execution_count": 79,
   "id": "668a6c6d",
   "metadata": {
    "scrolled": true
   },
   "outputs": [
    {
     "data": {
      "text/plain": [
       "'stroke'"
      ]
     },
     "execution_count": 79,
     "metadata": {},
     "output_type": "execute_result"
    }
   ],
   "source": [
    "target"
   ]
  },
  {
   "cell_type": "markdown",
   "id": "5dad1f21",
   "metadata": {},
   "source": [
    "target is the column we are going to predict."
   ]
  },
  {
   "cell_type": "code",
   "execution_count": 80,
   "id": "ebd3c3af",
   "metadata": {},
   "outputs": [],
   "source": [
    "X = raw_df[inputs]"
   ]
  },
  {
   "cell_type": "markdown",
   "id": "5d47ab3c",
   "metadata": {},
   "source": [
    "X is the dataset which has only inputs to be given to the model."
   ]
  },
  {
   "cell_type": "code",
   "execution_count": 81,
   "id": "817dfc8f",
   "metadata": {},
   "outputs": [],
   "source": [
    "y = raw_df[target]"
   ]
  },
  {
   "cell_type": "markdown",
   "id": "f33340de",
   "metadata": {},
   "source": [
    "y is the dataset which we are going to predict using the model."
   ]
  },
  {
   "cell_type": "markdown",
   "id": "c541db7d",
   "metadata": {},
   "source": [
    "Let's split the dataset into train and test set's using StratifiedShuffleSplit."
   ]
  },
  {
   "cell_type": "code",
   "execution_count": 82,
   "id": "27e640e3",
   "metadata": {},
   "outputs": [],
   "source": [
    "from sklearn.model_selection import StratifiedShuffleSplit"
   ]
  },
  {
   "cell_type": "code",
   "execution_count": 83,
   "id": "a50fcac5",
   "metadata": {},
   "outputs": [],
   "source": [
    "split = StratifiedShuffleSplit(n_splits=3,test_size=0.2,random_state=42)"
   ]
  },
  {
   "cell_type": "code",
   "execution_count": 84,
   "id": "679613b2",
   "metadata": {},
   "outputs": [],
   "source": [
    "for train_indx,test_indx in split.split(X,y):\n",
    "    train_X,train_y = X.loc[train_indx],y.loc[train_indx]\n",
    "    test_X,test_y = X.loc[test_indx],y.loc[test_indx]"
   ]
  },
  {
   "cell_type": "code",
   "execution_count": 85,
   "id": "4cc79355",
   "metadata": {
    "scrolled": true
   },
   "outputs": [
    {
     "name": "stdout",
     "output_type": "stream",
     "text": [
      "4088\n",
      "1022\n"
     ]
    }
   ],
   "source": [
    "print(len(train_X))\n",
    "print(len(test_X))"
   ]
  },
  {
   "cell_type": "markdown",
   "id": "ef953c65",
   "metadata": {},
   "source": [
    "Our training set has 4088 instances where as testing set has 1022 instances."
   ]
  },
  {
   "cell_type": "markdown",
   "id": "ca7ac328",
   "metadata": {},
   "source": [
    "Let's separate the numeric and categorical columns from the input columns."
   ]
  },
  {
   "cell_type": "code",
   "execution_count": 86,
   "id": "fb0ce04c",
   "metadata": {},
   "outputs": [],
   "source": [
    "numeric = train_X.select_dtypes('number').columns.tolist()"
   ]
  },
  {
   "cell_type": "code",
   "execution_count": 87,
   "id": "15cd9260",
   "metadata": {},
   "outputs": [
    {
     "data": {
      "text/plain": [
       "['age', 'hypertension', 'heart_disease', 'avg_glucose_level', 'bmi']"
      ]
     },
     "execution_count": 87,
     "metadata": {},
     "output_type": "execute_result"
    }
   ],
   "source": [
    "numeric"
   ]
  },
  {
   "cell_type": "markdown",
   "id": "c30056fa",
   "metadata": {},
   "source": [
    "Above are the numeric columns ."
   ]
  },
  {
   "cell_type": "code",
   "execution_count": 88,
   "id": "3b2e82a3",
   "metadata": {},
   "outputs": [],
   "source": [
    "categorical = train_X.select_dtypes('object').columns.tolist()"
   ]
  },
  {
   "cell_type": "code",
   "execution_count": 89,
   "id": "953b6f17",
   "metadata": {
    "scrolled": true
   },
   "outputs": [
    {
     "data": {
      "text/plain": [
       "['gender', 'ever_married', 'work_type', 'Residence_type', 'smoking_status']"
      ]
     },
     "execution_count": 89,
     "metadata": {},
     "output_type": "execute_result"
    }
   ],
   "source": [
    "categorical"
   ]
  },
  {
   "cell_type": "markdown",
   "id": "2730da05",
   "metadata": {},
   "source": [
    "Above are the categorical columns."
   ]
  },
  {
   "cell_type": "markdown",
   "id": "3fbf133f",
   "metadata": {},
   "source": [
    "Let's encode the categorical columns from our dataset using OneHotEncoder."
   ]
  },
  {
   "cell_type": "code",
   "execution_count": 90,
   "id": "767a3fd3",
   "metadata": {},
   "outputs": [],
   "source": [
    "from sklearn.preprocessing import OneHotEncoder"
   ]
  },
  {
   "cell_type": "code",
   "execution_count": 91,
   "id": "8a062bd1",
   "metadata": {},
   "outputs": [],
   "source": [
    "encoder = OneHotEncoder(handle_unknown='ignore',sparse=False)"
   ]
  },
  {
   "cell_type": "code",
   "execution_count": 92,
   "id": "800f185a",
   "metadata": {},
   "outputs": [
    {
     "data": {
      "text/plain": [
       "OneHotEncoder(handle_unknown='ignore', sparse=False)"
      ]
     },
     "execution_count": 92,
     "metadata": {},
     "output_type": "execute_result"
    }
   ],
   "source": [
    "encoder.fit(train_X[categorical])"
   ]
  },
  {
   "cell_type": "code",
   "execution_count": 93,
   "id": "916d5417",
   "metadata": {},
   "outputs": [],
   "source": [
    "encoded = encoder.get_feature_names(categorical).tolist()"
   ]
  },
  {
   "cell_type": "code",
   "execution_count": 94,
   "id": "6ee3c09c",
   "metadata": {
    "scrolled": true
   },
   "outputs": [
    {
     "data": {
      "text/plain": [
       "['gender_Female',\n",
       " 'gender_Male',\n",
       " 'gender_Other',\n",
       " 'ever_married_No',\n",
       " 'ever_married_Yes',\n",
       " 'work_type_Govt_job',\n",
       " 'work_type_Never_worked',\n",
       " 'work_type_Private',\n",
       " 'work_type_Self-employed',\n",
       " 'work_type_children',\n",
       " 'Residence_type_Rural',\n",
       " 'Residence_type_Urban',\n",
       " 'smoking_status_Unknown',\n",
       " 'smoking_status_formerly smoked',\n",
       " 'smoking_status_never smoked',\n",
       " 'smoking_status_smokes']"
      ]
     },
     "execution_count": 94,
     "metadata": {},
     "output_type": "execute_result"
    }
   ],
   "source": [
    "encoded"
   ]
  },
  {
   "cell_type": "markdown",
   "id": "dcb515eb",
   "metadata": {},
   "source": [
    "Above are the encoded columns of categorical columns."
   ]
  },
  {
   "cell_type": "code",
   "execution_count": 95,
   "id": "1a30d441",
   "metadata": {},
   "outputs": [],
   "source": [
    "train_X[encoded] = encoder.transform(train_X[categorical])"
   ]
  },
  {
   "cell_type": "code",
   "execution_count": 96,
   "id": "0e3a4671",
   "metadata": {},
   "outputs": [],
   "source": [
    "test_X[encoded] = encoder.transform(test_X[categorical])"
   ]
  },
  {
   "cell_type": "code",
   "execution_count": 97,
   "id": "e56259f5",
   "metadata": {},
   "outputs": [
    {
     "data": {
      "text/html": [
       "<div>\n",
       "<style scoped>\n",
       "    .dataframe tbody tr th:only-of-type {\n",
       "        vertical-align: middle;\n",
       "    }\n",
       "\n",
       "    .dataframe tbody tr th {\n",
       "        vertical-align: top;\n",
       "    }\n",
       "\n",
       "    .dataframe thead th {\n",
       "        text-align: right;\n",
       "    }\n",
       "</style>\n",
       "<table border=\"1\" class=\"dataframe\">\n",
       "  <thead>\n",
       "    <tr style=\"text-align: right;\">\n",
       "      <th></th>\n",
       "      <th>gender</th>\n",
       "      <th>age</th>\n",
       "      <th>hypertension</th>\n",
       "      <th>heart_disease</th>\n",
       "      <th>ever_married</th>\n",
       "      <th>work_type</th>\n",
       "      <th>Residence_type</th>\n",
       "      <th>avg_glucose_level</th>\n",
       "      <th>bmi</th>\n",
       "      <th>smoking_status</th>\n",
       "      <th>...</th>\n",
       "      <th>work_type_Never_worked</th>\n",
       "      <th>work_type_Private</th>\n",
       "      <th>work_type_Self-employed</th>\n",
       "      <th>work_type_children</th>\n",
       "      <th>Residence_type_Rural</th>\n",
       "      <th>Residence_type_Urban</th>\n",
       "      <th>smoking_status_Unknown</th>\n",
       "      <th>smoking_status_formerly smoked</th>\n",
       "      <th>smoking_status_never smoked</th>\n",
       "      <th>smoking_status_smokes</th>\n",
       "    </tr>\n",
       "  </thead>\n",
       "  <tbody>\n",
       "    <tr>\n",
       "      <th>3517</th>\n",
       "      <td>Male</td>\n",
       "      <td>49.0</td>\n",
       "      <td>0</td>\n",
       "      <td>0</td>\n",
       "      <td>Yes</td>\n",
       "      <td>Private</td>\n",
       "      <td>Urban</td>\n",
       "      <td>193.87</td>\n",
       "      <td>41.0</td>\n",
       "      <td>Unknown</td>\n",
       "      <td>...</td>\n",
       "      <td>0.0</td>\n",
       "      <td>1.0</td>\n",
       "      <td>0.0</td>\n",
       "      <td>0.0</td>\n",
       "      <td>0.0</td>\n",
       "      <td>1.0</td>\n",
       "      <td>1.0</td>\n",
       "      <td>0.0</td>\n",
       "      <td>0.0</td>\n",
       "      <td>0.0</td>\n",
       "    </tr>\n",
       "    <tr>\n",
       "      <th>2951</th>\n",
       "      <td>Male</td>\n",
       "      <td>75.0</td>\n",
       "      <td>0</td>\n",
       "      <td>0</td>\n",
       "      <td>Yes</td>\n",
       "      <td>Private</td>\n",
       "      <td>Rural</td>\n",
       "      <td>70.73</td>\n",
       "      <td>26.7</td>\n",
       "      <td>smokes</td>\n",
       "      <td>...</td>\n",
       "      <td>0.0</td>\n",
       "      <td>1.0</td>\n",
       "      <td>0.0</td>\n",
       "      <td>0.0</td>\n",
       "      <td>1.0</td>\n",
       "      <td>0.0</td>\n",
       "      <td>0.0</td>\n",
       "      <td>0.0</td>\n",
       "      <td>0.0</td>\n",
       "      <td>1.0</td>\n",
       "    </tr>\n",
       "    <tr>\n",
       "      <th>377</th>\n",
       "      <td>Male</td>\n",
       "      <td>25.0</td>\n",
       "      <td>0</td>\n",
       "      <td>0</td>\n",
       "      <td>No</td>\n",
       "      <td>Private</td>\n",
       "      <td>Urban</td>\n",
       "      <td>138.29</td>\n",
       "      <td>27.3</td>\n",
       "      <td>Unknown</td>\n",
       "      <td>...</td>\n",
       "      <td>0.0</td>\n",
       "      <td>1.0</td>\n",
       "      <td>0.0</td>\n",
       "      <td>0.0</td>\n",
       "      <td>0.0</td>\n",
       "      <td>1.0</td>\n",
       "      <td>1.0</td>\n",
       "      <td>0.0</td>\n",
       "      <td>0.0</td>\n",
       "      <td>0.0</td>\n",
       "    </tr>\n",
       "    <tr>\n",
       "      <th>2737</th>\n",
       "      <td>Male</td>\n",
       "      <td>55.0</td>\n",
       "      <td>0</td>\n",
       "      <td>0</td>\n",
       "      <td>Yes</td>\n",
       "      <td>Self-employed</td>\n",
       "      <td>Rural</td>\n",
       "      <td>163.82</td>\n",
       "      <td>27.5</td>\n",
       "      <td>never smoked</td>\n",
       "      <td>...</td>\n",
       "      <td>0.0</td>\n",
       "      <td>0.0</td>\n",
       "      <td>1.0</td>\n",
       "      <td>0.0</td>\n",
       "      <td>1.0</td>\n",
       "      <td>0.0</td>\n",
       "      <td>0.0</td>\n",
       "      <td>0.0</td>\n",
       "      <td>1.0</td>\n",
       "      <td>0.0</td>\n",
       "    </tr>\n",
       "    <tr>\n",
       "      <th>24</th>\n",
       "      <td>Male</td>\n",
       "      <td>71.0</td>\n",
       "      <td>0</td>\n",
       "      <td>0</td>\n",
       "      <td>Yes</td>\n",
       "      <td>Private</td>\n",
       "      <td>Urban</td>\n",
       "      <td>102.87</td>\n",
       "      <td>27.2</td>\n",
       "      <td>formerly smoked</td>\n",
       "      <td>...</td>\n",
       "      <td>0.0</td>\n",
       "      <td>1.0</td>\n",
       "      <td>0.0</td>\n",
       "      <td>0.0</td>\n",
       "      <td>0.0</td>\n",
       "      <td>1.0</td>\n",
       "      <td>0.0</td>\n",
       "      <td>1.0</td>\n",
       "      <td>0.0</td>\n",
       "      <td>0.0</td>\n",
       "    </tr>\n",
       "    <tr>\n",
       "      <th>...</th>\n",
       "      <td>...</td>\n",
       "      <td>...</td>\n",
       "      <td>...</td>\n",
       "      <td>...</td>\n",
       "      <td>...</td>\n",
       "      <td>...</td>\n",
       "      <td>...</td>\n",
       "      <td>...</td>\n",
       "      <td>...</td>\n",
       "      <td>...</td>\n",
       "      <td>...</td>\n",
       "      <td>...</td>\n",
       "      <td>...</td>\n",
       "      <td>...</td>\n",
       "      <td>...</td>\n",
       "      <td>...</td>\n",
       "      <td>...</td>\n",
       "      <td>...</td>\n",
       "      <td>...</td>\n",
       "      <td>...</td>\n",
       "      <td>...</td>\n",
       "    </tr>\n",
       "    <tr>\n",
       "      <th>4429</th>\n",
       "      <td>Female</td>\n",
       "      <td>40.0</td>\n",
       "      <td>0</td>\n",
       "      <td>0</td>\n",
       "      <td>Yes</td>\n",
       "      <td>Private</td>\n",
       "      <td>Urban</td>\n",
       "      <td>86.78</td>\n",
       "      <td>35.5</td>\n",
       "      <td>smokes</td>\n",
       "      <td>...</td>\n",
       "      <td>0.0</td>\n",
       "      <td>1.0</td>\n",
       "      <td>0.0</td>\n",
       "      <td>0.0</td>\n",
       "      <td>0.0</td>\n",
       "      <td>1.0</td>\n",
       "      <td>0.0</td>\n",
       "      <td>0.0</td>\n",
       "      <td>0.0</td>\n",
       "      <td>1.0</td>\n",
       "    </tr>\n",
       "    <tr>\n",
       "      <th>4126</th>\n",
       "      <td>Female</td>\n",
       "      <td>42.0</td>\n",
       "      <td>0</td>\n",
       "      <td>0</td>\n",
       "      <td>Yes</td>\n",
       "      <td>Private</td>\n",
       "      <td>Urban</td>\n",
       "      <td>74.80</td>\n",
       "      <td>50.6</td>\n",
       "      <td>Unknown</td>\n",
       "      <td>...</td>\n",
       "      <td>0.0</td>\n",
       "      <td>1.0</td>\n",
       "      <td>0.0</td>\n",
       "      <td>0.0</td>\n",
       "      <td>0.0</td>\n",
       "      <td>1.0</td>\n",
       "      <td>1.0</td>\n",
       "      <td>0.0</td>\n",
       "      <td>0.0</td>\n",
       "      <td>0.0</td>\n",
       "    </tr>\n",
       "    <tr>\n",
       "      <th>1071</th>\n",
       "      <td>Female</td>\n",
       "      <td>48.0</td>\n",
       "      <td>0</td>\n",
       "      <td>0</td>\n",
       "      <td>Yes</td>\n",
       "      <td>Private</td>\n",
       "      <td>Rural</td>\n",
       "      <td>195.16</td>\n",
       "      <td>42.2</td>\n",
       "      <td>Unknown</td>\n",
       "      <td>...</td>\n",
       "      <td>0.0</td>\n",
       "      <td>1.0</td>\n",
       "      <td>0.0</td>\n",
       "      <td>0.0</td>\n",
       "      <td>1.0</td>\n",
       "      <td>0.0</td>\n",
       "      <td>1.0</td>\n",
       "      <td>0.0</td>\n",
       "      <td>0.0</td>\n",
       "      <td>0.0</td>\n",
       "    </tr>\n",
       "    <tr>\n",
       "      <th>4748</th>\n",
       "      <td>Female</td>\n",
       "      <td>28.0</td>\n",
       "      <td>0</td>\n",
       "      <td>0</td>\n",
       "      <td>Yes</td>\n",
       "      <td>Govt_job</td>\n",
       "      <td>Rural</td>\n",
       "      <td>86.91</td>\n",
       "      <td>21.1</td>\n",
       "      <td>formerly smoked</td>\n",
       "      <td>...</td>\n",
       "      <td>0.0</td>\n",
       "      <td>0.0</td>\n",
       "      <td>0.0</td>\n",
       "      <td>0.0</td>\n",
       "      <td>1.0</td>\n",
       "      <td>0.0</td>\n",
       "      <td>0.0</td>\n",
       "      <td>1.0</td>\n",
       "      <td>0.0</td>\n",
       "      <td>0.0</td>\n",
       "    </tr>\n",
       "    <tr>\n",
       "      <th>5040</th>\n",
       "      <td>Male</td>\n",
       "      <td>30.0</td>\n",
       "      <td>0</td>\n",
       "      <td>0</td>\n",
       "      <td>Yes</td>\n",
       "      <td>Private</td>\n",
       "      <td>Urban</td>\n",
       "      <td>96.84</td>\n",
       "      <td>21.1</td>\n",
       "      <td>Unknown</td>\n",
       "      <td>...</td>\n",
       "      <td>0.0</td>\n",
       "      <td>1.0</td>\n",
       "      <td>0.0</td>\n",
       "      <td>0.0</td>\n",
       "      <td>0.0</td>\n",
       "      <td>1.0</td>\n",
       "      <td>1.0</td>\n",
       "      <td>0.0</td>\n",
       "      <td>0.0</td>\n",
       "      <td>0.0</td>\n",
       "    </tr>\n",
       "  </tbody>\n",
       "</table>\n",
       "<p>4088 rows × 26 columns</p>\n",
       "</div>"
      ],
      "text/plain": [
       "      gender   age  hypertension  heart_disease ever_married      work_type  \\\n",
       "3517    Male  49.0             0              0          Yes        Private   \n",
       "2951    Male  75.0             0              0          Yes        Private   \n",
       "377     Male  25.0             0              0           No        Private   \n",
       "2737    Male  55.0             0              0          Yes  Self-employed   \n",
       "24      Male  71.0             0              0          Yes        Private   \n",
       "...      ...   ...           ...            ...          ...            ...   \n",
       "4429  Female  40.0             0              0          Yes        Private   \n",
       "4126  Female  42.0             0              0          Yes        Private   \n",
       "1071  Female  48.0             0              0          Yes        Private   \n",
       "4748  Female  28.0             0              0          Yes       Govt_job   \n",
       "5040    Male  30.0             0              0          Yes        Private   \n",
       "\n",
       "     Residence_type  avg_glucose_level   bmi   smoking_status  ...  \\\n",
       "3517          Urban             193.87  41.0          Unknown  ...   \n",
       "2951          Rural              70.73  26.7           smokes  ...   \n",
       "377           Urban             138.29  27.3          Unknown  ...   \n",
       "2737          Rural             163.82  27.5     never smoked  ...   \n",
       "24            Urban             102.87  27.2  formerly smoked  ...   \n",
       "...             ...                ...   ...              ...  ...   \n",
       "4429          Urban              86.78  35.5           smokes  ...   \n",
       "4126          Urban              74.80  50.6          Unknown  ...   \n",
       "1071          Rural             195.16  42.2          Unknown  ...   \n",
       "4748          Rural              86.91  21.1  formerly smoked  ...   \n",
       "5040          Urban              96.84  21.1          Unknown  ...   \n",
       "\n",
       "      work_type_Never_worked  work_type_Private  work_type_Self-employed  \\\n",
       "3517                     0.0                1.0                      0.0   \n",
       "2951                     0.0                1.0                      0.0   \n",
       "377                      0.0                1.0                      0.0   \n",
       "2737                     0.0                0.0                      1.0   \n",
       "24                       0.0                1.0                      0.0   \n",
       "...                      ...                ...                      ...   \n",
       "4429                     0.0                1.0                      0.0   \n",
       "4126                     0.0                1.0                      0.0   \n",
       "1071                     0.0                1.0                      0.0   \n",
       "4748                     0.0                0.0                      0.0   \n",
       "5040                     0.0                1.0                      0.0   \n",
       "\n",
       "      work_type_children  Residence_type_Rural  Residence_type_Urban  \\\n",
       "3517                 0.0                   0.0                   1.0   \n",
       "2951                 0.0                   1.0                   0.0   \n",
       "377                  0.0                   0.0                   1.0   \n",
       "2737                 0.0                   1.0                   0.0   \n",
       "24                   0.0                   0.0                   1.0   \n",
       "...                  ...                   ...                   ...   \n",
       "4429                 0.0                   0.0                   1.0   \n",
       "4126                 0.0                   0.0                   1.0   \n",
       "1071                 0.0                   1.0                   0.0   \n",
       "4748                 0.0                   1.0                   0.0   \n",
       "5040                 0.0                   0.0                   1.0   \n",
       "\n",
       "      smoking_status_Unknown  smoking_status_formerly smoked  \\\n",
       "3517                     1.0                             0.0   \n",
       "2951                     0.0                             0.0   \n",
       "377                      1.0                             0.0   \n",
       "2737                     0.0                             0.0   \n",
       "24                       0.0                             1.0   \n",
       "...                      ...                             ...   \n",
       "4429                     0.0                             0.0   \n",
       "4126                     1.0                             0.0   \n",
       "1071                     1.0                             0.0   \n",
       "4748                     0.0                             1.0   \n",
       "5040                     1.0                             0.0   \n",
       "\n",
       "      smoking_status_never smoked  smoking_status_smokes  \n",
       "3517                          0.0                    0.0  \n",
       "2951                          0.0                    1.0  \n",
       "377                           0.0                    0.0  \n",
       "2737                          1.0                    0.0  \n",
       "24                            0.0                    0.0  \n",
       "...                           ...                    ...  \n",
       "4429                          0.0                    1.0  \n",
       "4126                          0.0                    0.0  \n",
       "1071                          0.0                    0.0  \n",
       "4748                          0.0                    0.0  \n",
       "5040                          0.0                    0.0  \n",
       "\n",
       "[4088 rows x 26 columns]"
      ]
     },
     "execution_count": 97,
     "metadata": {},
     "output_type": "execute_result"
    }
   ],
   "source": [
    "train_X"
   ]
  },
  {
   "cell_type": "code",
   "execution_count": 98,
   "id": "811f2668",
   "metadata": {
    "scrolled": true
   },
   "outputs": [
    {
     "data": {
      "text/html": [
       "<div>\n",
       "<style scoped>\n",
       "    .dataframe tbody tr th:only-of-type {\n",
       "        vertical-align: middle;\n",
       "    }\n",
       "\n",
       "    .dataframe tbody tr th {\n",
       "        vertical-align: top;\n",
       "    }\n",
       "\n",
       "    .dataframe thead th {\n",
       "        text-align: right;\n",
       "    }\n",
       "</style>\n",
       "<table border=\"1\" class=\"dataframe\">\n",
       "  <thead>\n",
       "    <tr style=\"text-align: right;\">\n",
       "      <th></th>\n",
       "      <th>gender</th>\n",
       "      <th>age</th>\n",
       "      <th>hypertension</th>\n",
       "      <th>heart_disease</th>\n",
       "      <th>ever_married</th>\n",
       "      <th>work_type</th>\n",
       "      <th>Residence_type</th>\n",
       "      <th>avg_glucose_level</th>\n",
       "      <th>bmi</th>\n",
       "      <th>smoking_status</th>\n",
       "      <th>...</th>\n",
       "      <th>work_type_Never_worked</th>\n",
       "      <th>work_type_Private</th>\n",
       "      <th>work_type_Self-employed</th>\n",
       "      <th>work_type_children</th>\n",
       "      <th>Residence_type_Rural</th>\n",
       "      <th>Residence_type_Urban</th>\n",
       "      <th>smoking_status_Unknown</th>\n",
       "      <th>smoking_status_formerly smoked</th>\n",
       "      <th>smoking_status_never smoked</th>\n",
       "      <th>smoking_status_smokes</th>\n",
       "    </tr>\n",
       "  </thead>\n",
       "  <tbody>\n",
       "    <tr>\n",
       "      <th>4832</th>\n",
       "      <td>Female</td>\n",
       "      <td>20.0</td>\n",
       "      <td>0</td>\n",
       "      <td>0</td>\n",
       "      <td>No</td>\n",
       "      <td>Private</td>\n",
       "      <td>Urban</td>\n",
       "      <td>61.88</td>\n",
       "      <td>20.1</td>\n",
       "      <td>never smoked</td>\n",
       "      <td>...</td>\n",
       "      <td>0.0</td>\n",
       "      <td>1.0</td>\n",
       "      <td>0.0</td>\n",
       "      <td>0.0</td>\n",
       "      <td>0.0</td>\n",
       "      <td>1.0</td>\n",
       "      <td>0.0</td>\n",
       "      <td>0.0</td>\n",
       "      <td>1.0</td>\n",
       "      <td>0.0</td>\n",
       "    </tr>\n",
       "    <tr>\n",
       "      <th>90</th>\n",
       "      <td>Female</td>\n",
       "      <td>79.0</td>\n",
       "      <td>0</td>\n",
       "      <td>1</td>\n",
       "      <td>Yes</td>\n",
       "      <td>Private</td>\n",
       "      <td>Urban</td>\n",
       "      <td>226.98</td>\n",
       "      <td>29.8</td>\n",
       "      <td>never smoked</td>\n",
       "      <td>...</td>\n",
       "      <td>0.0</td>\n",
       "      <td>1.0</td>\n",
       "      <td>0.0</td>\n",
       "      <td>0.0</td>\n",
       "      <td>0.0</td>\n",
       "      <td>1.0</td>\n",
       "      <td>0.0</td>\n",
       "      <td>0.0</td>\n",
       "      <td>1.0</td>\n",
       "      <td>0.0</td>\n",
       "    </tr>\n",
       "    <tr>\n",
       "      <th>4844</th>\n",
       "      <td>Female</td>\n",
       "      <td>4.0</td>\n",
       "      <td>0</td>\n",
       "      <td>0</td>\n",
       "      <td>No</td>\n",
       "      <td>children</td>\n",
       "      <td>Urban</td>\n",
       "      <td>72.49</td>\n",
       "      <td>16.9</td>\n",
       "      <td>Unknown</td>\n",
       "      <td>...</td>\n",
       "      <td>0.0</td>\n",
       "      <td>0.0</td>\n",
       "      <td>0.0</td>\n",
       "      <td>1.0</td>\n",
       "      <td>0.0</td>\n",
       "      <td>1.0</td>\n",
       "      <td>1.0</td>\n",
       "      <td>0.0</td>\n",
       "      <td>0.0</td>\n",
       "      <td>0.0</td>\n",
       "    </tr>\n",
       "    <tr>\n",
       "      <th>39</th>\n",
       "      <td>Female</td>\n",
       "      <td>49.0</td>\n",
       "      <td>0</td>\n",
       "      <td>0</td>\n",
       "      <td>Yes</td>\n",
       "      <td>Private</td>\n",
       "      <td>Urban</td>\n",
       "      <td>60.91</td>\n",
       "      <td>29.9</td>\n",
       "      <td>never smoked</td>\n",
       "      <td>...</td>\n",
       "      <td>0.0</td>\n",
       "      <td>1.0</td>\n",
       "      <td>0.0</td>\n",
       "      <td>0.0</td>\n",
       "      <td>0.0</td>\n",
       "      <td>1.0</td>\n",
       "      <td>0.0</td>\n",
       "      <td>0.0</td>\n",
       "      <td>1.0</td>\n",
       "      <td>0.0</td>\n",
       "    </tr>\n",
       "    <tr>\n",
       "      <th>1715</th>\n",
       "      <td>Female</td>\n",
       "      <td>35.0</td>\n",
       "      <td>0</td>\n",
       "      <td>0</td>\n",
       "      <td>Yes</td>\n",
       "      <td>Private</td>\n",
       "      <td>Urban</td>\n",
       "      <td>86.87</td>\n",
       "      <td>43.2</td>\n",
       "      <td>Unknown</td>\n",
       "      <td>...</td>\n",
       "      <td>0.0</td>\n",
       "      <td>1.0</td>\n",
       "      <td>0.0</td>\n",
       "      <td>0.0</td>\n",
       "      <td>0.0</td>\n",
       "      <td>1.0</td>\n",
       "      <td>1.0</td>\n",
       "      <td>0.0</td>\n",
       "      <td>0.0</td>\n",
       "      <td>0.0</td>\n",
       "    </tr>\n",
       "    <tr>\n",
       "      <th>...</th>\n",
       "      <td>...</td>\n",
       "      <td>...</td>\n",
       "      <td>...</td>\n",
       "      <td>...</td>\n",
       "      <td>...</td>\n",
       "      <td>...</td>\n",
       "      <td>...</td>\n",
       "      <td>...</td>\n",
       "      <td>...</td>\n",
       "      <td>...</td>\n",
       "      <td>...</td>\n",
       "      <td>...</td>\n",
       "      <td>...</td>\n",
       "      <td>...</td>\n",
       "      <td>...</td>\n",
       "      <td>...</td>\n",
       "      <td>...</td>\n",
       "      <td>...</td>\n",
       "      <td>...</td>\n",
       "      <td>...</td>\n",
       "      <td>...</td>\n",
       "    </tr>\n",
       "    <tr>\n",
       "      <th>4194</th>\n",
       "      <td>Female</td>\n",
       "      <td>34.0</td>\n",
       "      <td>0</td>\n",
       "      <td>0</td>\n",
       "      <td>Yes</td>\n",
       "      <td>Private</td>\n",
       "      <td>Urban</td>\n",
       "      <td>76.42</td>\n",
       "      <td>27.6</td>\n",
       "      <td>smokes</td>\n",
       "      <td>...</td>\n",
       "      <td>0.0</td>\n",
       "      <td>1.0</td>\n",
       "      <td>0.0</td>\n",
       "      <td>0.0</td>\n",
       "      <td>0.0</td>\n",
       "      <td>1.0</td>\n",
       "      <td>0.0</td>\n",
       "      <td>0.0</td>\n",
       "      <td>0.0</td>\n",
       "      <td>1.0</td>\n",
       "    </tr>\n",
       "    <tr>\n",
       "      <th>1444</th>\n",
       "      <td>Female</td>\n",
       "      <td>24.0</td>\n",
       "      <td>0</td>\n",
       "      <td>0</td>\n",
       "      <td>No</td>\n",
       "      <td>Private</td>\n",
       "      <td>Rural</td>\n",
       "      <td>120.77</td>\n",
       "      <td>16.9</td>\n",
       "      <td>never smoked</td>\n",
       "      <td>...</td>\n",
       "      <td>0.0</td>\n",
       "      <td>1.0</td>\n",
       "      <td>0.0</td>\n",
       "      <td>0.0</td>\n",
       "      <td>1.0</td>\n",
       "      <td>0.0</td>\n",
       "      <td>0.0</td>\n",
       "      <td>0.0</td>\n",
       "      <td>1.0</td>\n",
       "      <td>0.0</td>\n",
       "    </tr>\n",
       "    <tr>\n",
       "      <th>3515</th>\n",
       "      <td>Female</td>\n",
       "      <td>55.0</td>\n",
       "      <td>0</td>\n",
       "      <td>0</td>\n",
       "      <td>Yes</td>\n",
       "      <td>Private</td>\n",
       "      <td>Urban</td>\n",
       "      <td>102.10</td>\n",
       "      <td>22.5</td>\n",
       "      <td>formerly smoked</td>\n",
       "      <td>...</td>\n",
       "      <td>0.0</td>\n",
       "      <td>1.0</td>\n",
       "      <td>0.0</td>\n",
       "      <td>0.0</td>\n",
       "      <td>0.0</td>\n",
       "      <td>1.0</td>\n",
       "      <td>0.0</td>\n",
       "      <td>1.0</td>\n",
       "      <td>0.0</td>\n",
       "      <td>0.0</td>\n",
       "    </tr>\n",
       "    <tr>\n",
       "      <th>2107</th>\n",
       "      <td>Female</td>\n",
       "      <td>52.0</td>\n",
       "      <td>1</td>\n",
       "      <td>0</td>\n",
       "      <td>No</td>\n",
       "      <td>Private</td>\n",
       "      <td>Rural</td>\n",
       "      <td>170.22</td>\n",
       "      <td>27.2</td>\n",
       "      <td>formerly smoked</td>\n",
       "      <td>...</td>\n",
       "      <td>0.0</td>\n",
       "      <td>1.0</td>\n",
       "      <td>0.0</td>\n",
       "      <td>0.0</td>\n",
       "      <td>1.0</td>\n",
       "      <td>0.0</td>\n",
       "      <td>0.0</td>\n",
       "      <td>1.0</td>\n",
       "      <td>0.0</td>\n",
       "      <td>0.0</td>\n",
       "    </tr>\n",
       "    <tr>\n",
       "      <th>3639</th>\n",
       "      <td>Female</td>\n",
       "      <td>51.0</td>\n",
       "      <td>1</td>\n",
       "      <td>0</td>\n",
       "      <td>Yes</td>\n",
       "      <td>Private</td>\n",
       "      <td>Rural</td>\n",
       "      <td>85.84</td>\n",
       "      <td>31.8</td>\n",
       "      <td>never smoked</td>\n",
       "      <td>...</td>\n",
       "      <td>0.0</td>\n",
       "      <td>1.0</td>\n",
       "      <td>0.0</td>\n",
       "      <td>0.0</td>\n",
       "      <td>1.0</td>\n",
       "      <td>0.0</td>\n",
       "      <td>0.0</td>\n",
       "      <td>0.0</td>\n",
       "      <td>1.0</td>\n",
       "      <td>0.0</td>\n",
       "    </tr>\n",
       "  </tbody>\n",
       "</table>\n",
       "<p>1022 rows × 26 columns</p>\n",
       "</div>"
      ],
      "text/plain": [
       "      gender   age  hypertension  heart_disease ever_married work_type  \\\n",
       "4832  Female  20.0             0              0           No   Private   \n",
       "90    Female  79.0             0              1          Yes   Private   \n",
       "4844  Female   4.0             0              0           No  children   \n",
       "39    Female  49.0             0              0          Yes   Private   \n",
       "1715  Female  35.0             0              0          Yes   Private   \n",
       "...      ...   ...           ...            ...          ...       ...   \n",
       "4194  Female  34.0             0              0          Yes   Private   \n",
       "1444  Female  24.0             0              0           No   Private   \n",
       "3515  Female  55.0             0              0          Yes   Private   \n",
       "2107  Female  52.0             1              0           No   Private   \n",
       "3639  Female  51.0             1              0          Yes   Private   \n",
       "\n",
       "     Residence_type  avg_glucose_level   bmi   smoking_status  ...  \\\n",
       "4832          Urban              61.88  20.1     never smoked  ...   \n",
       "90            Urban             226.98  29.8     never smoked  ...   \n",
       "4844          Urban              72.49  16.9          Unknown  ...   \n",
       "39            Urban              60.91  29.9     never smoked  ...   \n",
       "1715          Urban              86.87  43.2          Unknown  ...   \n",
       "...             ...                ...   ...              ...  ...   \n",
       "4194          Urban              76.42  27.6           smokes  ...   \n",
       "1444          Rural             120.77  16.9     never smoked  ...   \n",
       "3515          Urban             102.10  22.5  formerly smoked  ...   \n",
       "2107          Rural             170.22  27.2  formerly smoked  ...   \n",
       "3639          Rural              85.84  31.8     never smoked  ...   \n",
       "\n",
       "      work_type_Never_worked  work_type_Private  work_type_Self-employed  \\\n",
       "4832                     0.0                1.0                      0.0   \n",
       "90                       0.0                1.0                      0.0   \n",
       "4844                     0.0                0.0                      0.0   \n",
       "39                       0.0                1.0                      0.0   \n",
       "1715                     0.0                1.0                      0.0   \n",
       "...                      ...                ...                      ...   \n",
       "4194                     0.0                1.0                      0.0   \n",
       "1444                     0.0                1.0                      0.0   \n",
       "3515                     0.0                1.0                      0.0   \n",
       "2107                     0.0                1.0                      0.0   \n",
       "3639                     0.0                1.0                      0.0   \n",
       "\n",
       "      work_type_children  Residence_type_Rural  Residence_type_Urban  \\\n",
       "4832                 0.0                   0.0                   1.0   \n",
       "90                   0.0                   0.0                   1.0   \n",
       "4844                 1.0                   0.0                   1.0   \n",
       "39                   0.0                   0.0                   1.0   \n",
       "1715                 0.0                   0.0                   1.0   \n",
       "...                  ...                   ...                   ...   \n",
       "4194                 0.0                   0.0                   1.0   \n",
       "1444                 0.0                   1.0                   0.0   \n",
       "3515                 0.0                   0.0                   1.0   \n",
       "2107                 0.0                   1.0                   0.0   \n",
       "3639                 0.0                   1.0                   0.0   \n",
       "\n",
       "      smoking_status_Unknown  smoking_status_formerly smoked  \\\n",
       "4832                     0.0                             0.0   \n",
       "90                       0.0                             0.0   \n",
       "4844                     1.0                             0.0   \n",
       "39                       0.0                             0.0   \n",
       "1715                     1.0                             0.0   \n",
       "...                      ...                             ...   \n",
       "4194                     0.0                             0.0   \n",
       "1444                     0.0                             0.0   \n",
       "3515                     0.0                             1.0   \n",
       "2107                     0.0                             1.0   \n",
       "3639                     0.0                             0.0   \n",
       "\n",
       "      smoking_status_never smoked  smoking_status_smokes  \n",
       "4832                          1.0                    0.0  \n",
       "90                            1.0                    0.0  \n",
       "4844                          0.0                    0.0  \n",
       "39                            1.0                    0.0  \n",
       "1715                          0.0                    0.0  \n",
       "...                           ...                    ...  \n",
       "4194                          0.0                    1.0  \n",
       "1444                          1.0                    0.0  \n",
       "3515                          0.0                    0.0  \n",
       "2107                          0.0                    0.0  \n",
       "3639                          1.0                    0.0  \n",
       "\n",
       "[1022 rows x 26 columns]"
      ]
     },
     "execution_count": 98,
     "metadata": {},
     "output_type": "execute_result"
    }
   ],
   "source": [
    "test_X"
   ]
  },
  {
   "cell_type": "markdown",
   "id": "787c7635",
   "metadata": {},
   "source": [
    "Let's scale the numeric values of our dataset using StandardScaler."
   ]
  },
  {
   "cell_type": "code",
   "execution_count": 99,
   "id": "2ee04538",
   "metadata": {},
   "outputs": [],
   "source": [
    "from sklearn.preprocessing import StandardScaler"
   ]
  },
  {
   "cell_type": "code",
   "execution_count": 100,
   "id": "6fbef27e",
   "metadata": {},
   "outputs": [],
   "source": [
    "scaler = StandardScaler()"
   ]
  },
  {
   "cell_type": "code",
   "execution_count": 101,
   "id": "bba51065",
   "metadata": {},
   "outputs": [],
   "source": [
    "train_X[numeric] = scaler.fit_transform(train_X[numeric])"
   ]
  },
  {
   "cell_type": "code",
   "execution_count": 102,
   "id": "56a35fc2",
   "metadata": {},
   "outputs": [],
   "source": [
    "test_X[numeric] = scaler.transform(test_X[numeric])"
   ]
  },
  {
   "cell_type": "code",
   "execution_count": 108,
   "id": "303d2d58",
   "metadata": {},
   "outputs": [],
   "source": [
    "from sklearn.metrics import classification_report"
   ]
  },
  {
   "cell_type": "markdown",
   "id": "ad007906",
   "metadata": {},
   "source": [
    "I am going to use DecisionTreeClassifier as my first model :"
   ]
  },
  {
   "cell_type": "code",
   "execution_count": 103,
   "id": "39d55c09",
   "metadata": {},
   "outputs": [],
   "source": [
    "from sklearn.tree import DecisionTreeClassifier"
   ]
  },
  {
   "cell_type": "code",
   "execution_count": 104,
   "id": "12a3a869",
   "metadata": {},
   "outputs": [],
   "source": [
    "dt_clf = DecisionTreeClassifier()"
   ]
  },
  {
   "cell_type": "code",
   "execution_count": 105,
   "id": "f32bf9e1",
   "metadata": {},
   "outputs": [
    {
     "data": {
      "text/plain": [
       "DecisionTreeClassifier()"
      ]
     },
     "execution_count": 105,
     "metadata": {},
     "output_type": "execute_result"
    }
   ],
   "source": [
    "dt_clf.fit(train_X[numeric+encoded],train_y)"
   ]
  },
  {
   "cell_type": "code",
   "execution_count": 107,
   "id": "27f1d24d",
   "metadata": {},
   "outputs": [],
   "source": [
    "pred_y = dt_clf.predict(test_X[numeric+encoded])"
   ]
  },
  {
   "cell_type": "code",
   "execution_count": 109,
   "id": "a2324ede",
   "metadata": {},
   "outputs": [
    {
     "data": {
      "text/plain": [
       "0.9099804305283757"
      ]
     },
     "execution_count": 109,
     "metadata": {},
     "output_type": "execute_result"
    }
   ],
   "source": [
    "dt_clf.score(test_X[numeric+encoded],test_y)"
   ]
  },
  {
   "cell_type": "markdown",
   "id": "614e8958",
   "metadata": {},
   "source": [
    "By using DecisionTreeClassifier I am having 90% accuracy."
   ]
  },
  {
   "cell_type": "code",
   "execution_count": 110,
   "id": "6126fb6d",
   "metadata": {},
   "outputs": [
    {
     "name": "stdout",
     "output_type": "stream",
     "text": [
      "              precision    recall  f1-score   support\n",
      "\n",
      "           0       0.96      0.95      0.95       972\n",
      "           1       0.12      0.14      0.13        50\n",
      "\n",
      "    accuracy                           0.91      1022\n",
      "   macro avg       0.54      0.54      0.54      1022\n",
      "weighted avg       0.91      0.91      0.91      1022\n",
      "\n"
     ]
    }
   ],
   "source": [
    "print(classification_report(test_y,pred_y))"
   ]
  },
  {
   "cell_type": "markdown",
   "id": "ee8a5208",
   "metadata": {},
   "source": [
    "I am using XGBClassifier as my second model."
   ]
  },
  {
   "cell_type": "code",
   "execution_count": 111,
   "id": "48412710",
   "metadata": {},
   "outputs": [],
   "source": [
    "from xgboost import XGBClassifier"
   ]
  },
  {
   "cell_type": "code",
   "execution_count": 112,
   "id": "6a5d849a",
   "metadata": {},
   "outputs": [],
   "source": [
    "xgb_clf = XGBClassifier()"
   ]
  },
  {
   "cell_type": "code",
   "execution_count": 113,
   "id": "eaf8216f",
   "metadata": {},
   "outputs": [
    {
     "name": "stdout",
     "output_type": "stream",
     "text": [
      "[14:42:02] WARNING: C:/Users/Administrator/workspace/xgboost-win64_release_1.4.0/src/learner.cc:1095: Starting in XGBoost 1.3.0, the default evaluation metric used with the objective 'binary:logistic' was changed from 'error' to 'logloss'. Explicitly set eval_metric if you'd like to restore the old behavior.\n"
     ]
    },
    {
     "data": {
      "text/plain": [
       "XGBClassifier(base_score=0.5, booster='gbtree', colsample_bylevel=1,\n",
       "              colsample_bynode=1, colsample_bytree=1, gamma=0, gpu_id=-1,\n",
       "              importance_type='gain', interaction_constraints='',\n",
       "              learning_rate=0.300000012, max_delta_step=0, max_depth=6,\n",
       "              min_child_weight=1, missing=nan, monotone_constraints='()',\n",
       "              n_estimators=100, n_jobs=8, num_parallel_tree=1, random_state=0,\n",
       "              reg_alpha=0, reg_lambda=1, scale_pos_weight=1, subsample=1,\n",
       "              tree_method='exact', validate_parameters=1, verbosity=None)"
      ]
     },
     "execution_count": 113,
     "metadata": {},
     "output_type": "execute_result"
    }
   ],
   "source": [
    "xgb_clf.fit(train_X[numeric+encoded],train_y)"
   ]
  },
  {
   "cell_type": "code",
   "execution_count": 114,
   "id": "2fbba675",
   "metadata": {},
   "outputs": [],
   "source": [
    "pred_y = xgb_clf.predict(test_X[numeric+encoded])"
   ]
  },
  {
   "cell_type": "code",
   "execution_count": 115,
   "id": "7eef3d47",
   "metadata": {},
   "outputs": [
    {
     "data": {
      "text/plain": [
       "0.9432485322896281"
      ]
     },
     "execution_count": 115,
     "metadata": {},
     "output_type": "execute_result"
    }
   ],
   "source": [
    "xgb_clf.score(test_X[numeric+encoded],test_y)"
   ]
  },
  {
   "cell_type": "code",
   "execution_count": 116,
   "id": "fa3eb160",
   "metadata": {},
   "outputs": [
    {
     "name": "stdout",
     "output_type": "stream",
     "text": [
      "              precision    recall  f1-score   support\n",
      "\n",
      "           0       0.95      0.99      0.97       972\n",
      "           1       0.21      0.06      0.09        50\n",
      "\n",
      "    accuracy                           0.94      1022\n",
      "   macro avg       0.58      0.52      0.53      1022\n",
      "weighted avg       0.92      0.94      0.93      1022\n",
      "\n"
     ]
    }
   ],
   "source": [
    "print(classification_report(test_y,pred_y))"
   ]
  },
  {
   "cell_type": "markdown",
   "id": "0095342f",
   "metadata": {},
   "source": [
    "By using XGBClassifier I am having an accuracy of 94% which is better than the previous model."
   ]
  }
 ],
 "metadata": {
  "kernelspec": {
   "display_name": "Python 3",
   "language": "python",
   "name": "python3"
  },
  "language_info": {
   "codemirror_mode": {
    "name": "ipython",
    "version": 3
   },
   "file_extension": ".py",
   "mimetype": "text/x-python",
   "name": "python",
   "nbconvert_exporter": "python",
   "pygments_lexer": "ipython3",
   "version": "3.8.8"
  }
 },
 "nbformat": 4,
 "nbformat_minor": 5
}
